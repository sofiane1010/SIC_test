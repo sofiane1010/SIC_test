{
  "nbformat": 4,
  "nbformat_minor": 0,
  "metadata": {
    "kernelspec": {
      "display_name": "Python 3",
      "language": "python",
      "name": "python3"
    },
    "language_info": {
      "codemirror_mode": {
        "name": "ipython",
        "version": 3
      },
      "file_extension": ".py",
      "mimetype": "text/x-python",
      "name": "python",
      "nbconvert_exporter": "python",
      "pygments_lexer": "ipython3",
      "version": "3.7.3"
    },
    "colab": {
      "name": "problem_0502.ipynb",
      "provenance": [],
      "include_colab_link": true
    }
  },
  "cells": [
    {
      "cell_type": "markdown",
      "metadata": {
        "id": "view-in-github",
        "colab_type": "text"
      },
      "source": [
        "<a href=\"https://colab.research.google.com/github/sofiane1010/SIC_test/blob/main/test_6/problem_0502.ipynb\" target=\"_parent\"><img src=\"https://colab.research.google.com/assets/colab-badge.svg\" alt=\"Open In Colab\"/></a>"
      ]
    },
    {
      "cell_type": "markdown",
      "metadata": {
        "id": "gc0c_QDyz9la"
      },
      "source": [
        "## Quiz #0502"
      ]
    },
    {
      "cell_type": "markdown",
      "metadata": {
        "id": "gg5-Q7hwz9lc"
      },
      "source": [
        "### \"Human Activity Recognition\" "
      ]
    },
    {
      "cell_type": "markdown",
      "metadata": {
        "id": "AK-HfZSVz9ld"
      },
      "source": [
        "#### Answer the following questions by providing Python code:\n",
        "#### Objectives:\n",
        "- Carry out the EDA.\n",
        "- Carry out the data pre-processing.\n",
        "- Optimize and test a predictive model of your choice."
      ]
    },
    {
      "cell_type": "code",
      "metadata": {
        "id": "09KTmndGz9ld"
      },
      "source": [
        "import numpy as np\n",
        "import pandas as pd\n",
        "import matplotlib.pyplot as plt\n",
        "import seaborn as sns\n",
        "import os\n",
        "import warnings\n",
        "from sklearn.model_selection import train_test_split, GridSearchCV\n",
        "from sklearn.neighbors import KNeighborsClassifier\n",
        "from sklearn.tree import DecisionTreeClassifier\n",
        "from sklearn.svm import SVC\n",
        "from sklearn.linear_model import LogisticRegression\n",
        "from sklearn.ensemble import RandomForestClassifier,AdaBoostClassifier, GradientBoostingClassifier\n",
        "from xgboost import XGBClassifier\n",
        "from sklearn import metrics, preprocessing\n",
        "warnings.filterwarnings(action='ignore')                  # Turn off the warnings.\n",
        "%matplotlib inline"
      ],
      "execution_count": 17,
      "outputs": []
    },
    {
      "cell_type": "markdown",
      "metadata": {
        "id": "9VI6LO0SJmx_"
      },
      "source": [
        "# Nouvelle section"
      ]
    },
    {
      "cell_type": "markdown",
      "metadata": {
        "id": "uqIxoAEXz9le"
      },
      "source": [
        "#### Read in data:\n",
        "The explanation on the dataset can be found [here](https://archive.ics.uci.edu/ml/datasets/human+activity+recognition+using+smartphones)."
      ]
    },
    {
      "cell_type": "code",
      "metadata": {
        "id": "T4HTIdmuz9le"
      },
      "source": [
        "# Go to the directory where the data file is located. \n",
        "# os.chdir(r'~~')                # Please, replace the path with your own. "
      ],
      "execution_count": null,
      "outputs": []
    },
    {
      "cell_type": "code",
      "metadata": {
        "id": "q9I9VS7Kz9lf"
      },
      "source": [
        "df = pd.read_csv('data_human activity recognition.csv', header='infer')"
      ],
      "execution_count": 18,
      "outputs": []
    },
    {
      "cell_type": "code",
      "metadata": {
        "id": "NYfBecxSz9lf",
        "colab": {
          "base_uri": "https://localhost:8080/",
          "height": 0
        },
        "outputId": "7535665f-cdc5-44c7-cc22-a0053ce4b51d"
      },
      "source": [
        "df.shape"
      ],
      "execution_count": 22,
      "outputs": [
        {
          "output_type": "execute_result",
          "data": {
            "text/plain": [
              "(19622, 160)"
            ]
          },
          "metadata": {},
          "execution_count": 22
        }
      ]
    },
    {
      "cell_type": "code",
      "metadata": {
        "id": "vb5_SYjjz9lf",
        "colab": {
          "base_uri": "https://localhost:8080/",
          "height": 0
        },
        "outputId": "7b21d643-eca4-4c61-bfc6-fe4115288a83"
      },
      "source": [
        "df.columns"
      ],
      "execution_count": 25,
      "outputs": [
        {
          "output_type": "execute_result",
          "data": {
            "text/plain": [
              "Index(['Unnamed: 0', 'user_name', 'raw_timestamp_part_1',\n",
              "       'raw_timestamp_part_2', 'cvtd_timestamp', 'new_window', 'num_window',\n",
              "       'roll_belt', 'pitch_belt', 'yaw_belt',\n",
              "       ...\n",
              "       'gyros_forearm_x', 'gyros_forearm_y', 'gyros_forearm_z',\n",
              "       'accel_forearm_x', 'accel_forearm_y', 'accel_forearm_z',\n",
              "       'magnet_forearm_x', 'magnet_forearm_y', 'magnet_forearm_z', 'classe'],\n",
              "      dtype='object', length=160)"
            ]
          },
          "metadata": {},
          "execution_count": 25
        }
      ]
    },
    {
      "cell_type": "markdown",
      "metadata": {
        "id": "lINfia61z9lf"
      },
      "source": [
        "1). Carry out the EDA. Check for the missing values. HINT: The response variable is 'classe'."
      ]
    },
    {
      "cell_type": "code",
      "metadata": {
        "id": "qW8fLXl6z9lf",
        "colab": {
          "base_uri": "https://localhost:8080/",
          "height": 0
        },
        "outputId": "01db1a14-0bb6-4060-ee26-f1148a72c4f1"
      },
      "source": [
        "# <Your code goes in here>\n",
        "df.isnull().sum().sum()"
      ],
      "execution_count": 5,
      "outputs": [
        {
          "output_type": "execute_result",
          "data": {
            "text/plain": [
              "1921600"
            ]
          },
          "metadata": {},
          "execution_count": 5
        }
      ]
    },
    {
      "cell_type": "markdown",
      "metadata": {
        "id": "Nt97aqnfz9lg"
      },
      "source": [
        "2). Get rid of the columns that have more than 97% missing values."
      ]
    },
    {
      "cell_type": "code",
      "metadata": {
        "id": "RzdReEJdz9lg"
      },
      "source": [
        "for col in df:\n",
        "  missing_percentage = 1 - df[col].count()/df[\"classe\"].count()\n",
        "  if missing_percentage > 0.97: df.drop(col, axis=1, inplace=True)"
      ],
      "execution_count": 19,
      "outputs": []
    },
    {
      "cell_type": "code",
      "metadata": {
        "colab": {
          "base_uri": "https://localhost:8080/"
        },
        "id": "q3Uf_-05MAy5",
        "outputId": "2cad08d7-94c8-4f6a-e055-946f0b6f7d34"
      },
      "source": [
        "df.shape"
      ],
      "execution_count": 5,
      "outputs": [
        {
          "output_type": "execute_result",
          "data": {
            "text/plain": [
              "(19622, 60)"
            ]
          },
          "metadata": {},
          "execution_count": 5
        }
      ]
    },
    {
      "cell_type": "markdown",
      "metadata": {
        "id": "6buNE_iLz9lg"
      },
      "source": [
        "3). Label encode the responde variable. HINT: use preprocessing.LabelEncoder(). "
      ]
    },
    {
      "cell_type": "code",
      "metadata": {
        "id": "mqxZ4VpHz9lg",
        "colab": {
          "base_uri": "https://localhost:8080/"
        },
        "outputId": "f326e15b-683a-464d-c302-16d1ba4ed3fd"
      },
      "source": [
        "# <Your code goes in here>\n",
        "le = preprocessing.LabelEncoder()\n",
        "le.fit(df.classe.values)\n",
        "\n",
        "cleanup = dict(list(zip(df.classe.values, le.transform(df.classe.values))))\n",
        "\n",
        "df.replace({\"classe\" : cleanup}, inplace=True)\n",
        "\n",
        "df.classe"
      ],
      "execution_count": 20,
      "outputs": [
        {
          "output_type": "execute_result",
          "data": {
            "text/plain": [
              "0        0\n",
              "1        0\n",
              "2        0\n",
              "3        0\n",
              "4        0\n",
              "        ..\n",
              "19617    4\n",
              "19618    4\n",
              "19619    4\n",
              "19620    4\n",
              "19621    4\n",
              "Name: classe, Length: 19622, dtype: int64"
            ]
          },
          "metadata": {},
          "execution_count": 20
        }
      ]
    },
    {
      "cell_type": "markdown",
      "metadata": {
        "id": "pPrtMUQFz9lg"
      },
      "source": [
        "4). Get rid of the unnecessary columns. HINT: Those columns with \"time\" in the name and those that are obviously unnecessary."
      ]
    },
    {
      "cell_type": "markdown",
      "metadata": {
        "id": "K9b7wT6dg-dn"
      },
      "source": [
        "looking for linear correlation between the features and the target"
      ]
    },
    {
      "cell_type": "code",
      "metadata": {
        "id": "A6ia2EiLz9lg"
      },
      "source": [
        "pearson_corr = df.corr(\"pearson\")[\"classe\"]"
      ],
      "execution_count": 21,
      "outputs": []
    },
    {
      "cell_type": "markdown",
      "metadata": {
        "id": "R9uOr5u8hC_h"
      },
      "source": [
        "looking for non-linear correlations between the features and the target"
      ]
    },
    {
      "cell_type": "code",
      "metadata": {
        "id": "oVThqdiWguA5"
      },
      "source": [
        "spearman_corr = df.corr(\"spearman\")[\"classe\"]"
      ],
      "execution_count": 22,
      "outputs": []
    },
    {
      "cell_type": "markdown",
      "metadata": {
        "id": "qcnNibeRhIPc"
      },
      "source": [
        "we keep the features having a correlation higher than 0.1"
      ]
    },
    {
      "cell_type": "code",
      "metadata": {
        "id": "Cdtp8YB7hdo4"
      },
      "source": [
        "for col in pearson_corr.index:\n",
        "  if pearson_corr[col] < 0.1 and spearman_corr[col] < 0.1:\n",
        "    df.drop(col, axis=1, inplace=True)\n",
        "\n",
        "df.drop([\"Unnamed: 0\",\"user_name\"\t,\"cvtd_timestamp\"\t,\"new_window\"], axis=1, inplace=True)"
      ],
      "execution_count": 23,
      "outputs": []
    },
    {
      "cell_type": "code",
      "metadata": {
        "colab": {
          "base_uri": "https://localhost:8080/"
        },
        "id": "P8S_yrjtkLgJ",
        "outputId": "5247e2a6-8dac-493a-9e67-e0660c350bc7"
      },
      "source": [
        "df.shape"
      ],
      "execution_count": 10,
      "outputs": [
        {
          "output_type": "execute_result",
          "data": {
            "text/plain": [
              "(19622, 11)"
            ]
          },
          "metadata": {},
          "execution_count": 10
        }
      ]
    },
    {
      "cell_type": "markdown",
      "metadata": {
        "id": "VXzVfW5dz9lh"
      },
      "source": [
        "5). Carry out min-max scaling of the exploratory variables. HINT: use preprocessing.MinMaxScaler()."
      ]
    },
    {
      "cell_type": "code",
      "metadata": {
        "id": "2qjhdLTUz9lh",
        "colab": {
          "base_uri": "https://localhost:8080/"
        },
        "outputId": "dfe3dbc0-e944-4e5f-f22d-c9f18d2c91a4"
      },
      "source": [
        "# <Your code goes in here>\n",
        "scaler = preprocessing.MinMaxScaler().fit(df.drop(\"classe\", axis=1))\n",
        "x_scaled = scaler.transform(df.drop(\"classe\", axis=1))\n",
        "\n",
        "x_scaled\n"
      ],
      "execution_count": 24,
      "outputs": [
        {
          "output_type": "execute_result",
          "data": {
            "text/plain": [
              "array([[0.98208021, 0.15877423, 0.13793103, ..., 0.27591036, 0.05298829,\n",
              "        0.33333333],\n",
              "       [0.98208021, 0.15877423, 0.13555291, ..., 0.27731092, 0.05298829,\n",
              "        0.33333333],\n",
              "       [0.98208021, 0.15882661, 0.13674197, ..., 0.27871148, 0.05298829,\n",
              "        0.33333333],\n",
              "       ...,\n",
              "       [0.56704477, 0.91094814, 0.55410226, ..., 0.35434174, 0.44670364,\n",
              "        0.26851852],\n",
              "       [0.56704477, 0.90047145, 0.56361474, ..., 0.36694678, 0.44670364,\n",
              "        0.2962963 ],\n",
              "       [0.56704477, 0.90047145, 0.54934602, ..., 0.3697479 , 0.44670364,\n",
              "        0.30555556]])"
            ]
          },
          "metadata": {},
          "execution_count": 24
        }
      ]
    },
    {
      "cell_type": "markdown",
      "metadata": {
        "id": "wa_PK9C5z9lh"
      },
      "source": [
        "6). Choose an algorithm and carry out the predictive analysis.\n",
        "\n",
        "- Optimize the hyperparameter(s)\n",
        "- Calculate the accuracy.\n",
        "- Aim for upper 90% accuracy."
      ]
    },
    {
      "cell_type": "code",
      "metadata": {
        "id": "1dS0Ekmdz9lh",
        "colab": {
          "base_uri": "https://localhost:8080/"
        },
        "outputId": "1ac4b122-cf78-46b7-ef72-9bb2d9139048"
      },
      "source": [
        "# <Your code goes in here>\n",
        "y = df.classe\n",
        "\n",
        "x_train, x_test, y_train, y_test = train_test_split(x_scaled, y, test_size=0.3, random_state=42)\n",
        "\n",
        "clf = RandomForestClassifier()\n",
        "\n",
        "clf.fit(x_train, y_train)\n",
        "\n",
        "y_pred = clf.predict(x_test)\n",
        "\n",
        "print(metrics.accuracy_score(y_test, y_pred))\n"
      ],
      "execution_count": 31,
      "outputs": [
        {
          "output_type": "stream",
          "text": [
            "0.9981314761338542\n"
          ],
          "name": "stdout"
        }
      ]
    }
  ]
}