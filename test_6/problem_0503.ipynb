{
  "nbformat": 4,
  "nbformat_minor": 0,
  "metadata": {
    "kernelspec": {
      "display_name": "Python 3",
      "language": "python",
      "name": "python3"
    },
    "language_info": {
      "codemirror_mode": {
        "name": "ipython",
        "version": 3
      },
      "file_extension": ".py",
      "mimetype": "text/x-python",
      "name": "python",
      "nbconvert_exporter": "python",
      "pygments_lexer": "ipython3",
      "version": "3.7.3"
    },
    "colab": {
      "name": "problem_0503.ipynb",
      "provenance": [],
      "include_colab_link": true
    }
  },
  "cells": [
    {
      "cell_type": "markdown",
      "metadata": {
        "id": "view-in-github",
        "colab_type": "text"
      },
      "source": [
        "<a href=\"https://colab.research.google.com/github/sofiane1010/SIC_test/blob/main/test_6/problem_0503.ipynb\" target=\"_parent\"><img src=\"https://colab.research.google.com/assets/colab-badge.svg\" alt=\"Open In Colab\"/></a>"
      ]
    },
    {
      "cell_type": "markdown",
      "metadata": {
        "id": "MOUkRZESz-tH"
      },
      "source": [
        "## Quiz #0503"
      ]
    },
    {
      "cell_type": "markdown",
      "metadata": {
        "id": "mlD7loyyz-tI"
      },
      "source": [
        "### \"Data Augmentation\""
      ]
    },
    {
      "cell_type": "markdown",
      "metadata": {
        "id": "HKJzS3KRz-tI"
      },
      "source": [
        "#### Answer the following questions by providing Python code:\n",
        "#### Objectives:\n",
        "- Code the helper functions.\n",
        "- Optimize and test a predictive model of your choice.\n",
        "- Carry out data aumentation in order to improve the predictive accuracy when the given training data is small."
      ]
    },
    {
      "cell_type": "code",
      "metadata": {
        "id": "6olK6H2tz-tJ"
      },
      "source": [
        "import numpy as np\n",
        "import pandas as pd\n",
        "import os\n",
        "import warnings\n",
        "import matplotlib.pyplot as plt\n",
        "from sklearn.model_selection import GridSearchCV\n",
        "from sklearn.neighbors import KNeighborsClassifier\n",
        "from sklearn.tree import DecisionTreeClassifier\n",
        "from sklearn.ensemble import RandomForestClassifier,AdaBoostClassifier, GradientBoostingClassifier\n",
        "from xgboost import XGBClassifier\n",
        "from sklearn import metrics, preprocessing\n",
        "from scipy.ndimage.interpolation import rotate\n",
        "warnings.filterwarnings(action='ignore')                  # Turn off the warnings.\n",
        "%matplotlib inline"
      ],
      "execution_count": 86,
      "outputs": []
    },
    {
      "cell_type": "markdown",
      "metadata": {
        "id": "vEBKVWKdz-tJ"
      },
      "source": [
        "#### Read in data:\n",
        "The explanation on the original data can be found [here](http://yann.lecun.com/exdb/mnist/).\n",
        "\n",
        "- The data we will be using is a small subset of the original data with only 100 observations.\n",
        "- Each observation is the \"flattened\" version of a image.\n",
        "- The first column corresponds to the label (Y).\n",
        "- The image size is 28x28."
      ]
    },
    {
      "cell_type": "code",
      "metadata": {
        "id": "AyFnA81Gz-tK"
      },
      "source": [
        "# Read the training and testing data separately.\n",
        "data_train = pd.read_csv('data_mnist_train_100.csv', header=None,encoding='latin1')\n",
        "data_test = pd.read_csv('data_mnist_test_100.csv', header=None,encoding='latin1')\n",
        "\n",
        "# Scale and split the data set into X and Y.\n",
        "X_train = np.array((data_train.iloc[:,1:]/255.0)*0.99+0.01)\n",
        "X_test = np.array((data_test.iloc[:,1:]/255.0)*0.99+0.01)\n",
        "Y_train = np.array(data_train.iloc[:,0])\n",
        "Y_test = np.array(data_test.iloc[:,0])"
      ],
      "execution_count": 121,
      "outputs": []
    },
    {
      "cell_type": "markdown",
      "metadata": {
        "id": "jwEfPLp9z-tK"
      },
      "source": [
        "1). The helper function 'show_data()' visualizes each given observation."
      ]
    },
    {
      "cell_type": "code",
      "metadata": {
        "id": "x-uT3P6Az-tL"
      },
      "source": [
        "def show_data(X, Y, n, angle=0):\n",
        "    image_matrix = X[n,:].reshape((28,28))\n",
        "    image_matrix = rotate(image_matrix, angle, cval=0.01, reshape=False)\n",
        "    imax = image_matrix.max()\n",
        "    imin = image_matrix.min()\n",
        "    image_matrix = ((image_matrix-imin)/(imax-imin))*0.99+0.01\n",
        "    plt.imshow(image_matrix, cmap='Greys',interpolation='None')\n",
        "    print(Y[n])"
      ],
      "execution_count": 88,
      "outputs": []
    },
    {
      "cell_type": "code",
      "metadata": {
        "id": "eQkLmS60z-tL",
        "colab": {
          "base_uri": "https://localhost:8080/",
          "height": 283
        },
        "outputId": "1878cb13-ab86-48b4-f03c-8344bf6c5f07"
      },
      "source": [
        "# Example 1.\n",
        "show_data(X_train, Y_train,10,+10)"
      ],
      "execution_count": 89,
      "outputs": [
        {
          "output_type": "stream",
          "text": [
            "3\n"
          ],
          "name": "stdout"
        },
        {
          "output_type": "display_data",
          "data": {
            "image/png": "[encoded data removed]",
            "text/plain": [
              "<Figure size 432x288 with 1 Axes>"
            ]
          },
          "metadata": {
            "needs_background": "light"
          }
        }
      ]
    },
    {
      "cell_type": "code",
      "metadata": {
        "id": "ABtyPR43z-tM",
        "colab": {
          "base_uri": "https://localhost:8080/",
          "height": 283
        },
        "outputId": "d7fa76f0-2d19-4871-a949-1e26d5c3d140"
      },
      "source": [
        "# Example 2.\n",
        "show_data(X_train, Y_train,10,-30)"
      ],
      "execution_count": 90,
      "outputs": [
        {
          "output_type": "stream",
          "text": [
            "3\n"
          ],
          "name": "stdout"
        },
        {
          "output_type": "display_data",
          "data": {
            "image/png": "[encoded data removed]",
            "text/plain": [
              "<Figure size 432x288 with 1 Axes>"
            ]
          },
          "metadata": {
            "needs_background": "light"
          }
        }
      ]
    },
    {
      "cell_type": "code",
      "metadata": {
        "id": "_j3jYxjjz-tN",
        "colab": {
          "base_uri": "https://localhost:8080/",
          "height": 283
        },
        "outputId": "36cb280d-a00c-4f84-bf3f-8e474373cfd9"
      },
      "source": [
        "# Example 3.\n",
        "show_data(X_train, Y_train,77,0)"
      ],
      "execution_count": 91,
      "outputs": [
        {
          "output_type": "stream",
          "text": [
            "1\n"
          ],
          "name": "stdout"
        },
        {
          "output_type": "display_data",
          "data": {
            "image/png": "[encoded data removed]",
            "text/plain": [
              "<Figure size 432x288 with 1 Axes>"
            ]
          },
          "metadata": {
            "needs_background": "light"
          }
        }
      ]
    },
    {
      "cell_type": "markdown",
      "metadata": {
        "id": "H_nAtEYEz-tN"
      },
      "source": [
        "2). Choose an algorithm and carry out the predictive analysis.\n",
        "\n",
        "- Optimize the hyperparameter(s).\n",
        "- Calculate the accuracy.\n",
        "- Is the accuracy high enough?"
      ]
    },
    {
      "cell_type": "code",
      "metadata": {
        "id": "eQDESSV6z-tO",
        "colab": {
          "base_uri": "https://localhost:8080/"
        },
        "outputId": "9cd683c1-68c0-46a5-b207-14ad00ad98c8"
      },
      "source": [
        "# <Your code goes in here>\n",
        "clf = RandomForestClassifier()\n",
        "clf.fit(X_train, Y_train)\n",
        "y_pred = clf.predict(X_test)\n",
        "print(metrics.accuracy_score(Y_test, y_pred))"
      ],
      "execution_count": 122,
      "outputs": [
        {
          "output_type": "stream",
          "text": [
            "0.67\n"
          ],
          "name": "stdout"
        }
      ]
    },
    {
      "cell_type": "markdown",
      "metadata": {
        "id": "Dn4Lw37ov_rT"
      },
      "source": [
        "the accuracy is not that good\n"
      ]
    },
    {
      "cell_type": "markdown",
      "metadata": {
        "id": "e98uw0eFz-tO"
      },
      "source": [
        "3). Code the helper function 'rotate_data()' that rotates each given observation by an angle. HINT: use scipy.ndimage.interpolation()."
      ]
    },
    {
      "cell_type": "code",
      "metadata": {
        "id": "sPiUfz81z-tP"
      },
      "source": [
        "# <Your code goes in here>\n",
        "def rotate_data(x, angle):\n",
        "  image_matrix = x.reshape((28,28))\n",
        "  image_matrix = rotate(image_matrix, angle, cval=0.01, reshape=False)\n",
        "  return image_matrix.reshape(28*28)"
      ],
      "execution_count": 94,
      "outputs": []
    },
    {
      "cell_type": "markdown",
      "metadata": {
        "id": "W3_RkrUEz-tP"
      },
      "source": [
        "4). Augment the training dataset.\n",
        "- Increase the size of the training dataset by introducing slight rotations (clockwise and counterclockwise).\n",
        "- Use the 'rotate_data()' function defined in the previous step.\n",
        "- No need to augment the testing dataset.\n",
        "- Target approximately five fold aumentation."
      ]
    },
    {
      "cell_type": "code",
      "metadata": {
        "id": "1eZ_94wUz-tP"
      },
      "source": [
        "rotations = [10,-10,20,-20,30,-30,40,-40,50,-50]\n",
        "for _ in range(3):\n",
        "  for index, img in enumerate(X_train):\n",
        "    X_train = np.append(X_train, [rotate_data(img, rotations[np.random.randint(10)])], axis=0)\n",
        "    Y_train = np.append(Y_train, Y_train[index])"
      ],
      "execution_count": 123,
      "outputs": []
    },
    {
      "cell_type": "code",
      "metadata": {
        "colab": {
          "base_uri": "https://localhost:8080/"
        },
        "id": "-FzgUzfU4Bxo",
        "outputId": "13c11dc2-a742-4d93-be21-07e347e7ad73"
      },
      "source": [
        "X_train.shape, Y_train.shape"
      ],
      "execution_count": 124,
      "outputs": [
        {
          "output_type": "execute_result",
          "data": {
            "text/plain": [
              "((800, 784), (800,))"
            ]
          },
          "metadata": {},
          "execution_count": 124
        }
      ]
    },
    {
      "cell_type": "markdown",
      "metadata": {
        "id": "_31O-zsVz-tQ"
      },
      "source": [
        "5). Redo the predictive analysis with the augmented training dataset.\n",
        "\n",
        "- Use the same algorithm as in the step 2).\n",
        "- Calculate the accuracy.\n",
        "- Has the accuracy gone up?"
      ]
    },
    {
      "cell_type": "code",
      "metadata": {
        "id": "oNxo91o1z-tQ",
        "colab": {
          "base_uri": "https://localhost:8080/"
        },
        "outputId": "2418bd96-0acb-47fb-c61f-b9f89d8b85cb"
      },
      "source": [
        "clf = RandomForestClassifier()\n",
        "clf.fit(X_train, Y_train)\n",
        "y_pred = clf.predict(X_test)\n",
        "print(metrics.accuracy_score(Y_test, y_pred))"
      ],
      "execution_count": 162,
      "outputs": [
        {
          "output_type": "stream",
          "text": [
            "0.75\n"
          ],
          "name": "stdout"
        }
      ]
    },
    {
      "cell_type": "markdown",
      "metadata": {
        "id": "MbD1o7lm8CK-"
      },
      "source": [
        "The accuracy is slightly better."
      ]
    }
  ]
}