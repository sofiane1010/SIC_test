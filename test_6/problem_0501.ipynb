{
  "nbformat": 4,
  "nbformat_minor": 0,
  "metadata": {
    "kernelspec": {
      "display_name": "Python 3",
      "language": "python",
      "name": "python3"
    },
    "language_info": {
      "codemirror_mode": {
        "name": "ipython",
        "version": 3
      },
      "file_extension": ".py",
      "mimetype": "text/x-python",
      "name": "python",
      "nbconvert_exporter": "python",
      "pygments_lexer": "ipython3",
      "version": "3.7.3"
    },
    "colab": {
      "name": "problem_0501.ipynb",
      "provenance": [],
      "collapsed_sections": [],
      "include_colab_link": true
    }
  },
  "cells": [
    {
      "cell_type": "markdown",
      "metadata": {
        "id": "view-in-github",
        "colab_type": "text"
      },
      "source": [
        "<a href=\"https://colab.research.google.com/github/sofiane1010/SIC_test/blob/main/test_6/problem_0501.ipynb\" target=\"_parent\"><img src=\"https://colab.research.google.com/assets/colab-badge.svg\" alt=\"Open In Colab\"/></a>"
      ]
    },
    {
      "cell_type": "markdown",
      "metadata": {
        "id": "rjgrimodz8si"
      },
      "source": [
        "## Quiz #0501"
      ]
    },
    {
      "cell_type": "markdown",
      "metadata": {
        "id": "jKWQCplWz8sm"
      },
      "source": [
        "### \"Logistic Regression and Gradient Descent Algorithm\""
      ]
    },
    {
      "cell_type": "markdown",
      "metadata": {
        "id": "ii_vxXjRz8sp"
      },
      "source": [
        "#### Answer the following questions by providing Python code:\n",
        "#### Objectives:\n",
        "- Code a logistic regression class using only the NumPy library.\n",
        "- Implement in Python the Sigmoid function.\n",
        "- Implement in Python the Gradient of the logarithmic likelihood.\n",
        "- Implement in Python the Gradient Descent Algorithm."
      ]
    },
    {
      "cell_type": "code",
      "metadata": {
        "id": "qPXzVLLez8ss"
      },
      "source": [
        "import numpy as np\n",
        "import pandas as pd\n",
        "from sklearn.datasets import load_breast_cancer\n",
        "from sklearn.model_selection import train_test_split"
      ],
      "execution_count": 58,
      "outputs": []
    },
    {
      "cell_type": "markdown",
      "metadata": {
        "id": "NfGrSwGhz8sv"
      },
      "source": [
        "#### Read in data:"
      ]
    },
    {
      "cell_type": "code",
      "metadata": {
        "id": "5v7cO1Jez8sv"
      },
      "source": [
        "# Load data.\n",
        "data = load_breast_cancer()\n",
        "# Explanatory variables.\n",
        "X = data['data']\n",
        "# Relabel such that 0 = 'benign' and 1 = malignant.\n",
        "Y = 1 - data['target']"
      ],
      "execution_count": 59,
      "outputs": []
    },
    {
      "cell_type": "code",
      "metadata": {
        "id": "RfwOovCoz8sw"
      },
      "source": [
        "# Split the dataset into training and testing.\n",
        "X_train, X_test, Y_train, Y_test = train_test_split(X, Y, test_size=0.4, random_state=1234)"
      ],
      "execution_count": 70,
      "outputs": []
    },
    {
      "cell_type": "markdown",
      "metadata": {
        "id": "18dR-OLBz8sy"
      },
      "source": [
        "1). Define the 'sigmoid' and 'gradient' functions to produce the output shown below:"
      ]
    },
    {
      "cell_type": "code",
      "metadata": {
        "id": "yPOYE1H2z8sz"
      },
      "source": [
        "def sigmoid(x):\n",
        "  return 1 / (1 + np.exp(-x))\n",
        "\n",
        "def gradient(X, Y, Y_pred, n_samples):\n",
        "  return (1 / n_samples) * np.dot(X.T, (Y_pred - Y))"
      ],
      "execution_count": 61,
      "outputs": []
    },
    {
      "cell_type": "markdown",
      "metadata": {
        "id": "fW8tGbtKz8s3"
      },
      "source": [
        "2). Define the 'LogisticRegression' class to produce the output shown below:"
      ]
    },
    {
      "cell_type": "code",
      "metadata": {
        "id": "ZnWTClEYz8s4"
      },
      "source": [
        "class LogisticRegression:\n",
        "    def __init__(self, learn_rate):\n",
        "        self.rate = learn_rate\n",
        "        self.n_nodes = None\n",
        "        self.beta = None\n",
        "    \n",
        "\n",
        "    def train(self, input_X, input_Y, n_epochs):\n",
        "        n_samples, n_features = input_X.shape\n",
        "\n",
        "        # init parameters\n",
        "        self.beta = np.random.randn(n_features)\n",
        "\n",
        "        # gradient descent\n",
        "        for _ in range(n_epochs):\n",
        "            # approximate y with linear combination of weights and x\n",
        "            linear_model = np.dot(input_X, self.beta)\n",
        "            # apply sigmoid function\n",
        "            y_predicted = sigmoid(linear_model)\n",
        "\n",
        "            # compute gradients\n",
        "            db = gradient(input_X, input_Y, y_predicted, n_samples)\n",
        "            # update parameters\n",
        "            self.beta -= self.rate * db\n",
        "\n",
        "    \n",
        "    def query(self, input_X, cutoff=0.5):\n",
        "        linear_model = np.dot(input_X, self.beta)\n",
        "        y_predicted = sigmoid(linear_model)\n",
        "        y_predicted_cls = [1 if i > cutoff else 0 for i in y_predicted]\n",
        "        return np.array(y_predicted_cls)\n",
        "             \n"
      ],
      "execution_count": 197,
      "outputs": []
    },
    {
      "cell_type": "code",
      "metadata": {
        "id": "LF-BtAahz8s6"
      },
      "source": [
        "# Hyperparameter for the learner.\n",
        "learning_rate = 0.001"
      ],
      "execution_count": 166,
      "outputs": []
    },
    {
      "cell_type": "code",
      "metadata": {
        "id": "qJKt4sffz8s7",
        "colab": {
          "base_uri": "https://localhost:8080/"
        },
        "outputId": "68fd7a5a-8752-400a-e3ca-29006b7795b3"
      },
      "source": [
        "# Train and predict.\n",
        "LR = LogisticRegression(learning_rate)\n",
        "LR.train(X_train, Y_train, 2000)\n",
        "Y_pred = LR.query(X_test,cutoff=0.5)"
      ],
      "execution_count": 212,
      "outputs": [
        {
          "output_type": "stream",
          "text": [
            "/usr/local/lib/python3.7/dist-packages/ipykernel_launcher.py:2: RuntimeWarning: overflow encountered in exp\n",
            "  \n"
          ],
          "name": "stderr"
        }
      ]
    },
    {
      "cell_type": "code",
      "metadata": {
        "id": "__GHQUI1CTZh"
      },
      "source": [
        "    def accuracy(y_true, y_pred):\n",
        "        return np.sum(y_true == y_pred) / len(y_true)"
      ],
      "execution_count": 76,
      "outputs": []
    },
    {
      "cell_type": "code",
      "metadata": {
        "id": "xiQ7YM0iz8s8",
        "colab": {
          "base_uri": "https://localhost:8080/"
        },
        "outputId": "f09032a6-f575-4dba-f560-907204db1bb8"
      },
      "source": [
        "# Display the accuracy.\n",
        "print('Accuracy : {}'.format(accuracy(Y_test, Y_pred)))"
      ],
      "execution_count": 201,
      "outputs": [
        {
          "output_type": "stream",
          "text": [
            "Accuracy : 0.9254385964912281\n"
          ],
          "name": "stdout"
        }
      ]
    }
  ]
}