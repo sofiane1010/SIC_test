{
  "nbformat": 4,
  "nbformat_minor": 0,
  "metadata": {
    "kernelspec": {
      "display_name": "Python 3",
      "language": "python",
      "name": "python3"
    },
    "language_info": {
      "codemirror_mode": {
        "name": "ipython",
        "version": 3
      },
      "file_extension": ".py",
      "mimetype": "text/x-python",
      "name": "python",
      "nbconvert_exporter": "python",
      "pygments_lexer": "ipython3",
      "version": "3.7.3"
    },
    "colab": {
      "name": "problem_0401.ipynb",
      "provenance": [],
      "collapsed_sections": [],
      "include_colab_link": true
    }
  },
  "cells": [
    {
      "cell_type": "markdown",
      "metadata": {
        "id": "view-in-github",
        "colab_type": "text"
      },
      "source": [
        "<a href=\"https://colab.research.google.com/github/sofiane1010/SIC_test/blob/main/test_ml/problem_0401.ipynb\" target=\"_parent\"><img src=\"https://colab.research.google.com/assets/colab-badge.svg\" alt=\"Open In Colab\"/></a>"
      ]
    },
    {
      "cell_type": "markdown",
      "metadata": {
        "id": "ZzTOjJr9wtkH"
      },
      "source": [
        "## Quiz #0401"
      ]
    },
    {
      "cell_type": "markdown",
      "metadata": {
        "id": "p9c7d2t-wtkX"
      },
      "source": [
        "### \"Optimal number of clusters for K-means clustering\""
      ]
    },
    {
      "cell_type": "code",
      "metadata": {
        "id": "A7EHrBL8wtka"
      },
      "source": [
        "import numpy as np\n",
        "import pandas as pd\n",
        "import matplotlib.pyplot as plt\n",
        "from sklearn.datasets import make_blobs\n",
        "from sklearn.cluster import KMeans\n",
        "%matplotlib inline"
      ],
      "execution_count": 1,
      "outputs": []
    },
    {
      "cell_type": "markdown",
      "metadata": {
        "id": "UnhePRhvwtkc"
      },
      "source": [
        "#### Answer the following question by providing Python code:"
      ]
    },
    {
      "cell_type": "code",
      "metadata": {
        "id": "8x6zSfQQwtkh",
        "colab": {
          "base_uri": "https://localhost:8080/"
        },
        "outputId": "e34bb683-69bf-42fe-f31c-093e9a751140"
      },
      "source": [
        "# We will use simulated data.\n",
        "# 3 clusters in 8 dimensional space.\n",
        "# Hard to visualize!\n",
        "X, label = make_blobs(n_samples=150, n_features=8, centers=3, cluster_std = 2, random_state=123)\n",
        "X.shape"
      ],
      "execution_count": 2,
      "outputs": [
        {
          "output_type": "execute_result",
          "data": {
            "text/plain": [
              "(150, 8)"
            ]
          },
          "metadata": {
            "tags": []
          },
          "execution_count": 2
        }
      ]
    },
    {
      "cell_type": "markdown",
      "metadata": {
        "id": "6bDNCasKwtki"
      },
      "source": [
        "1). Define a function that calculates the \"total internal sum of squares\".\n",
        "- X         :   Data.\n",
        "- centers   :   Array that contains the centroid coordinates. Calculated by kmeans.\n",
        "- clusters  :   Array of cluster labels. Calculated by kmeans. <br> <br>\n",
        "HINT: Implement the formula from the lecture note."
      ]
    },
    {
      "cell_type": "code",
      "metadata": {
        "id": "ZE45NPy9wtkl"
      },
      "source": [
        "def total_internal_ss(X, centers, clusters):\n",
        "\n",
        "  N_clusters = centers.shape[0]\n",
        "  N_columns = centers.shape[1]\n",
        "  N_rows = X.shape[0]\n",
        "  # <Your code goes in here>\n",
        "  d = 0\n",
        "  for i in range(N_clusters):\n",
        "    for j in range(N_rows):\n",
        "      if clusters[j] == i:\n",
        "        d += np.sum(np.sqrt(np.square(X[j,:]-centers[i])))\n",
        "  return d\n",
        "      \n"
      ],
      "execution_count": 3,
      "outputs": []
    },
    {
      "cell_type": "markdown",
      "metadata": {
        "id": "kNlDfYUEwtqL"
      },
      "source": [
        "2). Visualize as a Scatter plot the \"total internal sum of squares\" vs N# of clusters. \n",
        "- Then, determine the optimal number of clusters.\n",
        "- Is this number the same as expected?"
      ]
    },
    {
      "cell_type": "code",
      "metadata": {
        "id": "mqxDq0uYwtqQ"
      },
      "source": [
        "n_cluster = np.array(range(2,10))                   # Array that contains the number of clusters.\n",
        "total_ss = np.array([])                             # Array that will contain the total internal sum of squares.\n",
        "      \n",
        "# <Your code goes in here>\n",
        "for k in n_cluster:\n",
        "  km=KMeans(n_clusters=k)\n",
        "  km.fit(X)\n",
        "  total_ss = np.append(total_ss, total_internal_ss(X, km.cluster_centers_, km.labels_))"
      ],
      "execution_count": 4,
      "outputs": []
    },
    {
      "cell_type": "code",
      "metadata": {
        "id": "9NffFrRlwtqV",
        "colab": {
          "base_uri": "https://localhost:8080/",
          "height": 282
        },
        "outputId": "5a69a83d-f90d-4288-856c-905dc6b8ff0e"
      },
      "source": [
        "# <Your code goes in here>\n",
        "plt.plot(range(2,10),total_ss,'bx-')"
      ],
      "execution_count": 5,
      "outputs": [
        {
          "output_type": "execute_result",
          "data": {
            "text/plain": [
              "[<matplotlib.lines.Line2D at 0x7f0fb9eccdd0>]"
            ]
          },
          "metadata": {
            "tags": []
          },
          "execution_count": 5
        },
        {
          "output_type": "display_data",
          "data": {
            "image/png": "[encoded data removed]",
            "text/plain": [
              "<Figure size 432x288 with 1 Axes>"
            ]
          },
          "metadata": {
            "tags": [],
            "needs_background": "light"
          }
        }
      ]
    },
    {
      "cell_type": "markdown",
      "metadata": {
        "id": "id4nLizNdtRs"
      },
      "source": [
        "The optimal value of K according to the plot above, is 3. And it is as expected since we generated random data split into 3 clusters."
      ]
    }
  ]
}