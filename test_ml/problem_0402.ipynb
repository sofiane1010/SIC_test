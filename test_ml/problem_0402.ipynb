{
  "nbformat": 4,
  "nbformat_minor": 0,
  "metadata": {
    "kernelspec": {
      "display_name": "Python 3",
      "language": "python",
      "name": "python3"
    },
    "language_info": {
      "codemirror_mode": {
        "name": "ipython",
        "version": 3
      },
      "file_extension": ".py",
      "mimetype": "text/x-python",
      "name": "python",
      "nbconvert_exporter": "python",
      "pygments_lexer": "ipython3",
      "version": "3.7.3"
    },
    "colab": {
      "name": "problem_0402.ipynb",
      "provenance": [],
      "collapsed_sections": [],
      "include_colab_link": true
    }
  },
  "cells": [
    {
      "cell_type": "markdown",
      "metadata": {
        "id": "view-in-github",
        "colab_type": "text"
      },
      "source": [
        "<a href=\"https://colab.research.google.com/github/sofiane1010/SIC_test/blob/main/test_ml/problem_0402.ipynb\" target=\"_parent\"><img src=\"https://colab.research.google.com/assets/colab-badge.svg\" alt=\"Open In Colab\"/></a>"
      ]
    },
    {
      "cell_type": "markdown",
      "metadata": {
        "id": "fymIZnE2HiSk"
      },
      "source": [
        "## Quiz #0402"
      ]
    },
    {
      "cell_type": "markdown",
      "metadata": {
        "id": "ev6UMwZsHiSq"
      },
      "source": [
        "### \"OLS solution\""
      ]
    },
    {
      "cell_type": "code",
      "metadata": {
        "id": "KjB62CZXHiSs"
      },
      "source": [
        "import numpy as np\n",
        "import pandas as pd"
      ],
      "execution_count": 2,
      "outputs": []
    },
    {
      "cell_type": "markdown",
      "metadata": {
        "id": "anHya6yqHiSt"
      },
      "source": [
        "#### Answer the following question by providing Python code:\n",
        "<br>\n",
        "study = an array that contains the hours of study. This is the explanatory variable. <br>\n",
        "score = an array that contains the test scores. This is the response variable."
      ]
    },
    {
      "cell_type": "code",
      "metadata": {
        "id": "medl6inpHiSu"
      },
      "source": [
        "study = np.array([ 3, 4.5, 6, 1.2, 2, 6.9, 6.7, 5.5]).reshape(-1,1)\n",
        "score = np.array([ 88, 85, 90, 80, 81, 92, 95, 90]).reshape(-1,1)"
      ],
      "execution_count": 3,
      "outputs": []
    },
    {
      "cell_type": "code",
      "metadata": {
        "colab": {
          "base_uri": "https://localhost:8080/"
        },
        "id": "2_daoyZcesJR",
        "outputId": "799123da-f53a-4cd4-f3e7-dcbc1362e4ae"
      },
      "source": [
        "study.shape"
      ],
      "execution_count": 5,
      "outputs": [
        {
          "output_type": "execute_result",
          "data": {
            "text/plain": [
              "(8, 1)"
            ]
          },
          "metadata": {
            "tags": []
          },
          "execution_count": 5
        }
      ]
    },
    {
      "cell_type": "markdown",
      "metadata": {
        "id": "DmOxv3DsHiSv"
      },
      "source": [
        "1). Define the 'linerRegression' class to match the output shown below:"
      ]
    },
    {
      "cell_type": "code",
      "metadata": {
        "id": "cB51PpzbHiSw"
      },
      "source": [
        "class linearRegression:\n",
        "    def __init__(self):\n",
        "      return \n",
        "        \n",
        "    def train(self, input_X, input_Y):        \n",
        "        X_, Y_ = np.mean(input_X), np.mean(input_Y)\n",
        "\n",
        "        # Regression Coefficients by OLS.\n",
        "        self.beta = np.sum((input_X - X_)*(input_Y - Y_))/np.sum(np.square(input_X - X_))\n",
        "        \n",
        "        # Residuals.\n",
        "        self.residuals = input_Y - np.dot(input_X,self.beta)\n",
        "\n",
        "        # Intercept\n",
        "        self.intercept = np.mean(self.residuals)\n",
        "        \n",
        "        # model\n",
        "        self.y_pred = np.dot(input_X,self.beta) + self.intercept\n",
        "        \n",
        "        # R^2.\n",
        "        self.r2 = 1 - np.sum(np.square(input_Y - self.y_pred))/np.sum(np.square(input_Y - Y_))\n",
        "      \n",
        "        return  self.r2\n",
        "    \n",
        "\n",
        "\n",
        "    def output(self):\n",
        "      res = pd.DataFrame({\"Coefficient\" :[self.intercept, self.beta]},index=[\"intercept\", \"X1\"])\n",
        "      print(res.to_string())\n",
        "      print(\"------------------------------\")\n",
        "      print(\"R^2:\", round(self.r2, 6))"
      ],
      "execution_count": 61,
      "outputs": []
    },
    {
      "cell_type": "markdown",
      "metadata": {
        "id": "TTNJUDEMHiSy"
      },
      "source": [
        "**Sample run:**"
      ]
    },
    {
      "cell_type": "markdown",
      "metadata": {
        "id": "UvMc9iEheisJ"
      },
      "source": [
        ""
      ]
    },
    {
      "cell_type": "code",
      "metadata": {
        "id": "XbUPcW1nHiS2",
        "colab": {
          "base_uri": "https://localhost:8080/"
        },
        "outputId": "55027c58-5fde-47ae-d45f-7e57d44eedfe"
      },
      "source": [
        "LR = linearRegression()                    # Create a linear regression object.\n",
        "LR.train(study, score)                     # Train.\n",
        "LR.output()                                # Train."
      ],
      "execution_count": 62,
      "outputs": [
        {
          "output_type": "stream",
          "text": [
            "           Coefficient\n",
            "intercept    77.684670\n",
            "X1            2.221303\n",
            "------------------------------\n",
            "R^2: 0.845842\n"
          ],
          "name": "stdout"
        }
      ]
    }
  ]
}