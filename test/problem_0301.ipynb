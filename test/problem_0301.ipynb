{
 "cells": [
  {
   "cell_type": "markdown",
   "source": [
    "## Quiz #0301"
   ],
   "metadata": {}
  },
  {
   "cell_type": "markdown",
   "source": [
    "### \"Sample size\""
   ],
   "metadata": {}
  },
  {
   "cell_type": "code",
   "execution_count": 15,
   "source": [
    "import numpy as np\r\n",
    "import scipy.stats as st\r\n",
    "import seaborn as sns"
   ],
   "outputs": [],
   "metadata": {}
  },
  {
   "cell_type": "markdown",
   "source": [
    "#### Answer the following questions by providing Python code:"
   ],
   "metadata": {}
  },
  {
   "cell_type": "markdown",
   "source": [
    "The female students are known to have mean weight $\\mu=58$kg with  $\\sigma=3$kg. <br>\n",
    "Calculate the *minimum* sample size $n$ in each of the following cases."
   ],
   "metadata": {}
  },
  {
   "cell_type": "code",
   "execution_count": 2,
   "source": [
    "mu = 58.0\r\n",
    "sigma = 3.0"
   ],
   "outputs": [],
   "metadata": {}
  },
  {
   "cell_type": "markdown",
   "source": [
    "1). When we target the standard error is equal to 1kg:"
   ],
   "metadata": {}
  },
  {
   "cell_type": "code",
   "execution_count": 8,
   "source": [
    "se = 2\r\n",
    "n = sigma**2/se**2\r\n",
    "int(np.ceil(n))"
   ],
   "outputs": [
    {
     "output_type": "execute_result",
     "data": {
      "text/plain": [
       "3"
      ]
     },
     "metadata": {},
     "execution_count": 8
    }
   ],
   "metadata": {}
  },
  {
   "cell_type": "markdown",
   "source": [
    "2). When we want the margin error $ME$ of the 95% confidence interval to be equal to 2kg: <br>\n",
    "NOTE: Use the Standard Normal distribution."
   ],
   "metadata": {}
  },
  {
   "cell_type": "code",
   "execution_count": 19,
   "source": [
    "W = 2                 \r\n",
    "n = st.norm.ppf(0.975)*sigma/W\r\n",
    "int(np.ceil(n))"
   ],
   "outputs": [
    {
     "output_type": "execute_result",
     "data": {
      "text/plain": [
       "3"
      ]
     },
     "metadata": {},
     "execution_count": 19
    }
   ],
   "metadata": {}
  },
  {
   "cell_type": "markdown",
   "source": [
    "3). When we want the margin error $ME$ of the 95% confidence interval to be equal to 2kg: <br>\n",
    "NOTE: Use the Student-t distribution. <br>\n",
    "HINT: As the Student-t distribution depends on $n$, it is not as straightforward as in the Stadard Normal case."
   ],
   "metadata": {}
  },
  {
   "cell_type": "markdown",
   "source": [
    "We know that the margin error equation for the t distribution is as follows : \r\n",
    "ME = t * sigma /sqrt(n)\r\n",
    "with ME = 2, sigma = 3, and alpha = 0.025. we refer to the t table to find the value that verifies the following equation :\r\n",
    "t/sqrt(n) = 2/3\r\n",
    "and we find :\r\n",
    "t = 2.22814\r\n",
    "df = 11\r\n",
    "so n = 12."
   ],
   "metadata": {}
  },
  {
   "cell_type": "code",
   "execution_count": null,
   "source": [],
   "outputs": [],
   "metadata": {}
  }
 ],
 "metadata": {
  "kernelspec": {
   "name": "python3",
   "display_name": "Python 3.8.8 64-bit ('base': conda)"
  },
  "language_info": {
   "codemirror_mode": {
    "name": "ipython",
    "version": 3
   },
   "file_extension": ".py",
   "mimetype": "text/x-python",
   "name": "python",
   "nbconvert_exporter": "python",
   "pygments_lexer": "ipython3",
   "version": "3.8.8"
  },
  "toc": {
   "base_numbering": 1,
   "nav_menu": {},
   "number_sections": true,
   "sideBar": true,
   "skip_h1_title": false,
   "title_cell": "Table of Contents",
   "title_sidebar": "Contents",
   "toc_cell": false,
   "toc_position": {},
   "toc_section_display": true,
   "toc_window_display": false
  },
  "varInspector": {
   "cols": {
    "lenName": 16,
    "lenType": 16,
    "lenVar": 40
   },
   "kernels_config": {
    "python": {
     "delete_cmd_postfix": "",
     "delete_cmd_prefix": "del ",
     "library": "var_list.py",
     "varRefreshCmd": "print(var_dic_list())"
    },
    "r": {
     "delete_cmd_postfix": ") ",
     "delete_cmd_prefix": "rm(",
     "library": "var_list.r",
     "varRefreshCmd": "cat(var_dic_list()) "
    }
   },
   "types_to_exclude": [
    "module",
    "function",
    "builtin_function_or_method",
    "instance",
    "_Feature"
   ],
   "window_display": false
  },
  "interpreter": {
   "hash": "374be8c39ae01ff66328729506a9b9a7ba9eb3f2df141c8f3098ad96d8cc6bdd"
  }
 },
 "nbformat": 4,
 "nbformat_minor": 2
}